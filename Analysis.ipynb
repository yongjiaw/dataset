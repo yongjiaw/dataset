{
 "metadata": {
  "name": "",
  "signature": "sha256:825dd8675e1f87af2c4170ce6dd547fb46d43c323a885ca772ed16fc148a8fb2"
 },
 "nbformat": 3,
 "nbformat_minor": 0,
 "worksheets": [
  {
   "cells": [
    {
     "cell_type": "markdown",
     "metadata": {},
     "source": [
      "Instructions about the task\n",
      "--\n",
      "* Time constraint is the least concern. You can have several days or weeks to work on it, with a very casual pacing, such as spending half an hour or so every day - however you like it.\n",
      "* The task is open-ended. You should be driven by curiosity, start with a few questions (such as those mentioned at the end of this document), try to answer them using the provided data, ask new questions, and then iterate, just to make sense out of the data ... until you feel you had enough :)\n",
      "* Use tools such as the ipython notebook, or the knitr R package with Rstudio. These tools help you document your data exploration process without extra effort. The final document with embedded plots and notes should be what you submit. If you feel need some time to get up to speed on these tools, take your time.\n",
      "* The primary task is to characterize the data and expose 'insightful information', it is up to you to decide what they should be and how to communicate them effectively. One suggestion is to use good visulaizations as much as possible, because that's always the most effective approach. It's also worth to spend effort to condense more information into fewer plots, as opposed to litter the document with a large number of plots each having little information. Both python and R have greate visualization options. I would highly recommend using the ipython notebook, because it can call both R and python libraries which will be illustrated below.\n",
      "* Feel free to ask any questions.\n",
      "\n",
      "Here are the instructions about <a href=http://ipython.org/install.html>installing ipython notebook</a>.\n",
      "This document itself is an ipython notebook."
     ]
    },
    {
     "cell_type": "markdown",
     "metadata": {},
     "source": [
      "On top of this page (if it's viewed through the public nbviewer at http://nbviewer.ipython.org), there should be a link to the public git repository. The git repository contains the 'testData.RData' file. The file constains a R data frame object named 'test.data'. You can either clone this git repository, or just download the data file follwoing the links. Then you can directly load the file into R to access the data object, or use ipython notebook as illustrated here."
     ]
    },
    {
     "cell_type": "code",
     "collapsed": false,
     "input": [
      "ls"
     ],
     "language": "python",
     "metadata": {},
     "outputs": [
      {
       "output_type": "stream",
       "stream": "stdout",
       "text": [
        "Analysis.ipynb  README.md       testData.RData\r\n"
       ]
      }
     ],
     "prompt_number": 11
    },
    {
     "cell_type": "markdown",
     "metadata": {},
     "source": [
      "<h3>Load the rmagic module</h3>"
     ]
    },
    {
     "cell_type": "code",
     "collapsed": false,
     "input": [
      "%load_ext rpy2.ipython"
     ],
     "language": "python",
     "metadata": {},
     "outputs": [],
     "prompt_number": 2
    },
    {
     "cell_type": "markdown",
     "metadata": {},
     "source": [
      "%%R can be used to call R functions in the entire cell"
     ]
    },
    {
     "cell_type": "code",
     "collapsed": false,
     "input": [
      "%%R\n",
      "load('testData.RData')"
     ],
     "language": "python",
     "metadata": {},
     "outputs": [],
     "prompt_number": 3
    },
    {
     "cell_type": "code",
     "collapsed": false,
     "input": [
      "%%R\n",
      "ls()"
     ],
     "language": "python",
     "metadata": {},
     "outputs": [
      {
       "metadata": {},
       "output_type": "display_data",
       "text": [
        "[1] \"test.data\"\n"
       ]
      }
     ],
     "prompt_number": 4
    },
    {
     "cell_type": "code",
     "collapsed": false,
     "input": [
      "%%R\n",
      "dim(test.data)"
     ],
     "language": "python",
     "metadata": {},
     "outputs": [
      {
       "metadata": {},
       "output_type": "display_data",
       "text": [
        "[1] 213053     11\n"
       ]
      }
     ],
     "prompt_number": 5
    },
    {
     "cell_type": "code",
     "collapsed": false,
     "input": [
      "%%R\n",
      "class(test.data)"
     ],
     "language": "python",
     "metadata": {},
     "outputs": [
      {
       "metadata": {},
       "output_type": "display_data",
       "text": [
        "[1] \"data.frame\"\n"
       ]
      }
     ],
     "prompt_number": 14
    },
    {
     "cell_type": "markdown",
     "metadata": {},
     "source": [
      "<B>use -o to export R data frame to pandas frame</B>. Now you have the option to do the analysis in Python, R or any other lanugages ipython notebook supports."
     ]
    },
    {
     "cell_type": "code",
     "collapsed": false,
     "input": [
      "%%R -o test_data\n",
      "test_data = test.data"
     ],
     "language": "python",
     "metadata": {},
     "outputs": [],
     "prompt_number": 6
    },
    {
     "cell_type": "code",
     "collapsed": false,
     "input": [
      "type(test_data)"
     ],
     "language": "python",
     "metadata": {},
     "outputs": [
      {
       "metadata": {},
       "output_type": "pyout",
       "prompt_number": 13,
       "text": [
        "pandas.core.frame.DataFrame"
       ]
      }
     ],
     "prompt_number": 13
    },
    {
     "cell_type": "code",
     "collapsed": false,
     "input": [
      "test_data.head()"
     ],
     "language": "python",
     "metadata": {},
     "outputs": [
      {
       "html": [
        "<div style=\"max-height:1000px;max-width:1500px;overflow:auto;\">\n",
        "<table border=\"1\" class=\"dataframe\">\n",
        "  <thead>\n",
        "    <tr style=\"text-align: right;\">\n",
        "      <th></th>\n",
        "      <th>app_id</th>\n",
        "      <th>campaign_id</th>\n",
        "      <th>city</th>\n",
        "      <th>clearing_price</th>\n",
        "      <th>country</th>\n",
        "      <th>device_id</th>\n",
        "      <th>exchange_id</th>\n",
        "      <th>price</th>\n",
        "      <th>publisher_id</th>\n",
        "      <th>region</th>\n",
        "      <th>timestamp</th>\n",
        "    </tr>\n",
        "  </thead>\n",
        "  <tbody>\n",
        "    <tr>\n",
        "      <th>0</th>\n",
        "      <td> 53a390df88dfbeea64e3e9ed</td>\n",
        "      <td> 53d13e707274625f521ac703</td>\n",
        "      <td>  Pittsburgh</td>\n",
        "      <td> 877000</td>\n",
        "      <td> USA</td>\n",
        "      <td> 53c717c672746287ede21d00</td>\n",
        "      <td> mopub</td>\n",
        "      <td> 1000000</td>\n",
        "      <td> 53a390df88dfbeea64e3e9ec</td>\n",
        "      <td>      PA</td>\n",
        "      <td> 1408431601</td>\n",
        "    </tr>\n",
        "    <tr>\n",
        "      <th>1</th>\n",
        "      <td> 53a390c888dfbeea64e3e6d3</td>\n",
        "      <td> 53e51230617070092a030000</td>\n",
        "      <td>     Jackson</td>\n",
        "      <td> 398000</td>\n",
        "      <td> USA</td>\n",
        "      <td> 538b2159617070682cd8e914</td>\n",
        "      <td> mopub</td>\n",
        "      <td> 1500000</td>\n",
        "      <td> 53a390c888dfbeea64e3e6d1</td>\n",
        "      <td>      MI</td>\n",
        "      <td> 1408431600</td>\n",
        "    </tr>\n",
        "    <tr>\n",
        "      <th>2</th>\n",
        "      <td> 53a390df88dfbeea64e3e9ed</td>\n",
        "      <td> 53d13e707274625f521ac703</td>\n",
        "      <td>  Pittsburgh</td>\n",
        "      <td> 877000</td>\n",
        "      <td> USA</td>\n",
        "      <td> 53c717c672746287ede21d00</td>\n",
        "      <td> mopub</td>\n",
        "      <td> 1000000</td>\n",
        "      <td> 53a390df88dfbeea64e3e9ec</td>\n",
        "      <td>      PA</td>\n",
        "      <td> 1408431601</td>\n",
        "    </tr>\n",
        "    <tr>\n",
        "      <th>3</th>\n",
        "      <td> 53c9031da4168bf76cbde0cc</td>\n",
        "      <td> 53d13e707274625f521ac703</td>\n",
        "      <td>     unknown</td>\n",
        "      <td>    NaN</td>\n",
        "      <td> USA</td>\n",
        "      <td> 53c7de6e7274625c60b4b100</td>\n",
        "      <td> mopub</td>\n",
        "      <td> 1000000</td>\n",
        "      <td> 53a3910a88dfbeea64e3ebda</td>\n",
        "      <td> unknown</td>\n",
        "      <td> 1408431602</td>\n",
        "    </tr>\n",
        "    <tr>\n",
        "      <th>4</th>\n",
        "      <td> 53a391b688dfbeea64e3eea5</td>\n",
        "      <td> 53d13e707274625f521ac703</td>\n",
        "      <td> Bakersfield</td>\n",
        "      <td>    NaN</td>\n",
        "      <td> USA</td>\n",
        "      <td> 53bc72426170703ef998f300</td>\n",
        "      <td> mopub</td>\n",
        "      <td> 1000000</td>\n",
        "      <td> 53a390e788dfbeea64e3ea60</td>\n",
        "      <td>      CA</td>\n",
        "      <td> 1408431604</td>\n",
        "    </tr>\n",
        "  </tbody>\n",
        "</table>\n",
        "</div>"
       ],
       "metadata": {},
       "output_type": "pyout",
       "prompt_number": 12,
       "text": [
        "                     app_id               campaign_id         city  \\\n",
        "0  53a390df88dfbeea64e3e9ed  53d13e707274625f521ac703   Pittsburgh   \n",
        "1  53a390c888dfbeea64e3e6d3  53e51230617070092a030000      Jackson   \n",
        "2  53a390df88dfbeea64e3e9ed  53d13e707274625f521ac703   Pittsburgh   \n",
        "3  53c9031da4168bf76cbde0cc  53d13e707274625f521ac703      unknown   \n",
        "4  53a391b688dfbeea64e3eea5  53d13e707274625f521ac703  Bakersfield   \n",
        "\n",
        "   clearing_price country                 device_id exchange_id    price  \\\n",
        "0          877000     USA  53c717c672746287ede21d00       mopub  1000000   \n",
        "1          398000     USA  538b2159617070682cd8e914       mopub  1500000   \n",
        "2          877000     USA  53c717c672746287ede21d00       mopub  1000000   \n",
        "3             NaN     USA  53c7de6e7274625c60b4b100       mopub  1000000   \n",
        "4             NaN     USA  53bc72426170703ef998f300       mopub  1000000   \n",
        "\n",
        "               publisher_id   region   timestamp  \n",
        "0  53a390df88dfbeea64e3e9ec       PA  1408431601  \n",
        "1  53a390c888dfbeea64e3e6d1       MI  1408431600  \n",
        "2  53a390df88dfbeea64e3e9ec       PA  1408431601  \n",
        "3  53a3910a88dfbeea64e3ebda  unknown  1408431602  \n",
        "4  53a390e788dfbeea64e3ea60       CA  1408431604  "
       ]
      }
     ],
     "prompt_number": 12
    },
    {
     "cell_type": "markdown",
     "metadata": {},
     "source": [
      "In the following cell, the data are summarized using R, and here are some description of the domain. Please understand this before moving on.\n",
      "--\n",
      "* We constantly bid on RTB exchange to win placement opportunities in order to show display advertisement to users viewing the app. There are potentially other participants trying to bid on the same placement, and the one bids highest win. \n",
      "* Each row records a bidding action on some RTB exchange, which is only 'mopub' in this data set.\n",
      "* 'device_id' is the unique identifier of the mobile device involvided in the bidding.\n",
      "* 'app_id' is the uniquie identifier of the mobile app offering the bidding opportunity, and 'publisher_id' is identifies the publisher who made the app.\n",
      "* 'price' is the bidding price, and 'clearing_price' is the paid price based on the 2nd-price auction rule. If 'clear_price' is not available, it means we lost the auction due to higher bids from other auction participants. The unit is milli-cents per impression, or 1/1000, of a cent per 1000 impressions. So 135000 is 1.35 dollar CPM (per 1000 impressions).\n",
      "* All the other fields should be self-explained."
     ]
    },
    {
     "cell_type": "code",
     "collapsed": false,
     "input": [
      "%%R\n",
      "options(width=100)\n",
      "summary(test.data)"
     ],
     "language": "python",
     "metadata": {},
     "outputs": [
      {
       "metadata": {},
       "output_type": "display_data",
       "text": [
        "                      app_id                         campaign_id           city       \n",
        " 53a390c888dfbeea64e3e6f6: 32137   53d13e707274625f521ac703:174191   unknown : 21360  \n",
        " 53a390c888dfbeea64e3e6d3: 25654   53e51230617070092a030000: 38283   Chicago :  3934  \n",
        " 53c9031da4168bf76cbde0cc: 17668   53e9509a617070554a000000:   579   Norwalk :  3113  \n",
        " 53a390c988dfbeea64e3e710:  9592                                     New York:  3100  \n",
        " 53a390cb88dfbeea64e3e7ce:  6612                                     Houston :  2652  \n",
        " 53a3910a88dfbeea64e3ebdb:  5914                                     Columbus:  2569  \n",
        " (Other)                 :115476                                     (Other) :176325  \n",
        " clearing_price    country                         device_id      exchange_id        price        \n",
        " Min.   :   2000   USA:213053   53864fe461707063eaa98501:   648   mopub:213053   Min.   :1000000  \n",
        " 1st Qu.: 135000                5389599861707016cd9f450c:   498                  1st Qu.:1000000  \n",
        " Median : 347000                53ad04ae6170701d59845a00:   448                  Median :1000000  \n",
        " Mean   : 421932                5386b8a961707012750fd800:   365                  Mean   :1091203  \n",
        " 3rd Qu.: 666000                539113a76170703de0c71500:   348                  3rd Qu.:1000000  \n",
        " Max.   :1438000                5386a92b6170701e6c496a00:   304                  Max.   :1500000  \n",
        " NA's   :141152                 (Other)                 :210442                                   \n",
        "                   publisher_id       region        timestamp                  \n",
        " 53a390c888dfbeea64e3e6f4:32137   MI     :43389   Min.   :2014-08-19 00:00:00  \n",
        " 53a390c888dfbeea64e3e6d1:25654   CA     :25202   1st Qu.:2014-08-19 03:46:05  \n",
        " 53a3910a88dfbeea64e3ebda:24715   TX     :16085   Median :2014-08-19 08:22:19  \n",
        " 53a390c988dfbeea64e3e763:13200   NY     :12454   Mean   :2014-08-19 08:44:19  \n",
        " 53a390ca88dfbeea64e3e7a3:11283   unknown:11188   3rd Qu.:2014-08-19 13:30:34  \n",
        " 53a390cb88dfbeea64e3e7cc: 9671   IL     : 9008   Max.   :2014-08-19 22:59:57  \n",
        " (Other)                 :96393   (Other):95727                                \n"
       ]
      }
     ],
     "prompt_number": 17
    },
    {
     "cell_type": "markdown",
     "metadata": {},
     "source": [
      "Potenially interesting things to look for\n",
      "--\n",
      "* Fraud: Very high frequency of bids from the same device may indicate the activities are from bots, not human. Try to characterize the apps or publishers in terms of this.\n",
      "* Market capacity: The win-rates of auctions depend on bidding price (which is quite flat in this data set), they also varies a lot across other dimensions including the apps, locations and time of day. For winning auctions, there is a spread between bid price and clearing price. The win-rate and the bid spread can be used to infer how much other auction participants are bidding.\n"
     ]
    },
    {
     "cell_type": "markdown",
     "metadata": {},
     "source": [
      "The follwoing are a few simple examples using R base plot just to get started. You should try cooler options, such as ggplot.\n",
      "---"
     ]
    },
    {
     "cell_type": "code",
     "collapsed": false,
     "input": [
      "%%R\n",
      "# for example, the follwoing plot shows the distribution of clearning_price, 30% of them cost exactly 135000\n",
      "# it might worh to see more details about this\n",
      "plot(sort(test.data$clearing_price), type=\"l\", xlab=\"bids\", ylab=\"clearing price\")\n",
      "abline(h=135000, lty=3)"
     ],
     "language": "python",
     "metadata": {},
     "outputs": [
      {
       "metadata": {},
       "output_type": "display_data",
       "png": "[encoded data removed]"
      }
     ],
     "prompt_number": 47
    },
    {
     "cell_type": "code",
     "collapsed": false,
     "input": [
      "%%R\n",
      "cp = test.data$clearing_price[!is.na(test.data$clearing_price)]\n",
      "sum(cp == 135000)/length(cp)"
     ],
     "language": "python",
     "metadata": {},
     "outputs": [
      {
       "metadata": {},
       "output_type": "display_data",
       "text": [
        "[1] 0.308744\n"
       ]
      }
     ],
     "prompt_number": 63
    },
    {
     "cell_type": "code",
     "collapsed": false,
     "input": [
      "%%R\n",
      "# device id 53864fe461707063eaa98501 has 600+ activities uniformaly distributed from 4:00 to 12:00 PDT. \n",
      "# The behavior doesn't look human\n",
      "# All the bids come from a single app\n",
      "with(subset(test.data, device_id=='53864fe461707063eaa98501'),\n",
      "     plot(sort(timestamp),type=\"l\", xlab=\"bids\", ylab=\"my local time\")\n",
      "    )"
     ],
     "language": "python",
     "metadata": {},
     "outputs": [
      {
       "metadata": {},
       "output_type": "display_data",
       "png": "[encoded data removed]"
      }
     ],
     "prompt_number": 65
    },
    {
     "cell_type": "code",
     "collapsed": false,
     "input": [],
     "language": "python",
     "metadata": {},
     "outputs": []
    }
   ],
   "metadata": {}
  }
 ]
}